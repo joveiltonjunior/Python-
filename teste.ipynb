{
 "cells": [
  {
   "cell_type": "code",
   "execution_count": 1,
   "metadata": {},
   "outputs": [],
   "source": [
    "import pandas as pd\n",
    "import matplotlib.pyplot as plt\n",
    "import numpy as np"
   ]
  },
  {
   "cell_type": "markdown",
   "metadata": {},
   "source": [
    "O primeiro passo e puxar o dados usando a função read da biblioteca pandas  "
   ]
  },
  {
   "cell_type": "code",
   "execution_count": null,
   "metadata": {},
   "outputs": [],
   "source": [
    "df = pd.read_excel ('C:\\\\Users\\\\jovei\\\\OneDrive\\\\Área de Trabalho\\\\Poço 1\\\\APPI\\\\Pw1.xlsx')\n",
    "\n",
    "df.head(3)"
   ]
  },
  {
   "cell_type": "markdown",
   "metadata": {},
   "source": [
    "A tabela vai ter 25 colunas, porém boa parte dessas colunas está em branco, por isso foi criado uma data frame encima \n",
    "do anterior, onde esse novo data frame vai ter somente as colunas que vão ser utilizadas para fazer os gráficos. "
   ]
  },
  {
   "cell_type": "code",
   "execution_count": null,
   "metadata": {},
   "outputs": [],
   "source": [
    "df = df[['Class', 'Neutral DBE', 'Exp m/z', 'Mono Abund', 'Total Abund', '#C' ]]\n",
    "df.head(3)"
   ]
  },
  {
   "cell_type": "markdown",
   "metadata": {},
   "source": []
  },
  {
   "cell_type": "markdown",
   "metadata": {},
   "source": [
    "Ordene as  abundâncias da menor para a maior"
   ]
  },
  {
   "cell_type": "code",
   "execution_count": 29,
   "metadata": {},
   "outputs": [],
   "source": [
    "#df.dtypes\n",
    "df = df.sort_values('Exp m/z')"
   ]
  },
  {
   "cell_type": "markdown",
   "metadata": {},
   "source": [
    "O gráfico mais simples é o de distribuição de massas ou espectro, depois de ordenar as abundâncias só plotar o gráfico, onde no eixo x vai ser colocado o m/z e no eixo y as intensidades"
   ]
  },
  {
   "cell_type": "code",
   "execution_count": null,
   "metadata": {},
   "outputs": [],
   "source": [
    "#Gráfico de Distribuição \n",
    "\n",
    "plt.figure(figsize= (8,6))\n",
    "plt.plot(df['Exp m/z'], df['Total Abund'])\n",
    "plt.xlabel('m/z', loc= 'center',  fontsize= 12)\n",
    "plt.ylabel('Abundancia', loc= 'center', fontsize = 12)\n",
    "plt.title ('Espectro de Massas', loc='center', fontsize= 16)\n",
    "plt.ylim (1)"
   ]
  },
  {
   "cell_type": "markdown",
   "metadata": {},
   "source": [
    "Antes de fazer o gráfico, é preciso agrupar as amostras por classes e somar as mono Abundância de cada classe, depois criar uma\n",
    "coluna de porcentagem onde vão ser somadas todas as mono Abundância  o resultado vai ser utilizado para calcular a porcentagem de abundância de cada classe"
   ]
  },
  {
   "cell_type": "code",
   "execution_count": null,
   "metadata": {},
   "outputs": [],
   "source": [
    "#Gráfico de Distribuição de Classes \n",
    "classes = df.groupby('Class').agg({'Mono Abund': 'sum'})\n",
    "total = classes['Mono Abund'].sum()\n",
    "classes.head(5)\n",
    "\n",
    "plt.figure(figsize= (8,6))\n",
    "plt.bar(classes.index, classes['Mono Abund'] / total * 100)\n",
    "plt.xlabel('Classes', loc='center', fontsize= 12)\n",
    "plt.ylabel('Abundância Relativa (%)', loc='center', fontsize = 12)\n",
    "plt.title('Distribuição de Classes', loc='center', fontsize = 16)\n",
    "\n",
    "\n"
   ]
  },
  {
   "cell_type": "markdown",
   "metadata": {},
   "source": [
    "Como as outras classes suprime as classes mesmos abundânte foi feito um gráfico somente com  as classes com menos de 2%\n",
    "de abundância. "
   ]
  },
  {
   "cell_type": "code",
   "execution_count": null,
   "metadata": {},
   "outputs": [],
   "source": [
    "#Gráfico de Distribuição de Classes  menor que 2%\n",
    "# Filtrar classes que têm mais de 2% do total de \"Mono Abund\"\n",
    "classes2 = classes.loc[(classes['Mono Abund'] / total * 100) < 2]\n",
    "\n",
    "plt.figure(figsize= (8,6))\n",
    "plt.bar(classes2.index, classes2['Mono Abund'] )\n",
    "plt.xlabel('Classes', loc='center', fontsize= 12)\n",
    "plt.ylabel('Abundância Relativa (%)', loc='center', fontsize = 12)\n",
    "plt.title('Distribuição de Classes', loc='center', fontsize = 16)\n"
   ]
  },
  {
   "cell_type": "markdown",
   "metadata": {},
   "source": [
    "para fazer a distribuição de DBE é preciso filtrar somente uma classe após filtrado, é feito o agrupamento dos compostos de mesmo DBE e somado as mono Abundância deles, por fim e criada uma coluna  onde vai ser colocada a porcentagem das mono abundância de cada DBE"
   ]
  },
  {
   "cell_type": "code",
   "execution_count": null,
   "metadata": {},
   "outputs": [],
   "source": [
    "# Distribuição de DBE\n",
    "\n",
    "hc = df[df['Class'] == 'HC']\n",
    "dbe = hc.groupby('Neutral DBE', as_index=False)['Mono Abund'].sum()\n",
    "total = dbe['Mono Abund'].sum()\n",
    "\n",
    "plt.figure(figsize= (8,6))\n",
    "plt.bar(dbe['Neutral DBE'], dbe['Mono Abund']/total*100)\n",
    "plt.xlabel('DBE', loc='center', fontsize=12)\n",
    "plt.ylabel('Abundância Relativa (%)', loc='center', fontsize = 12)\n",
    "plt.title('Distribuição de DBE', loc= 'center', fontsize=16)"
   ]
  },
  {
   "cell_type": "code",
   "execution_count": null,
   "metadata": {},
   "outputs": [],
   "source": [
    "# Didtribuição de DBE gráfico de linha\n",
    "plt.figure(figsize= (8,6))\n",
    "plt.plot(dbe['Neutral DBE'], dbe['Mono Abund']/total*100)\n",
    "plt.xlabel('DBE', loc='center', fontsize=12)\n",
    "plt.ylabel('Abundância Relativa (%)', loc='center', fontsize = 12)\n",
    "plt.title('Distribuição de DBE', loc= 'center', fontsize=16)"
   ]
  },
  {
   "cell_type": "markdown",
   "metadata": {},
   "source": [
    "Para fazer esse gráfico, é preciso filtrar uma classe após filtrar a classe e preciso agrupar os compostos que têm o mesmo número de \n",
    "carbono e somar suas mono Abundâncias, e por fim somar as mono Abundâncias de todos os números de carbonos. Depois é só plotar o gráfico\n",
    "onde no eixo x vão estar os números de carbonos e no eixo y as mono Abundâncias em porcentagem."
   ]
  },
  {
   "cell_type": "code",
   "execution_count": null,
   "metadata": {},
   "outputs": [],
   "source": [
    "#Distribuição de carbono na classe HC\n",
    "carbono = hc.groupby('#C',as_index=False)['Mono Abund'].sum()\n",
    "total = carbono['Mono Abund'].sum()\n",
    "\n",
    "plt.figure(figsize= (8,6))\n",
    "plt.plot(carbono['#C'], carbono['Mono Abund']/total*100)\n",
    "plt.xlabel('Número de Carbono', loc='center', fontsize=12)\n",
    "plt.ylabel('Abundância Relativa (%)', loc= 'center', fontsize = 12)\n",
    "plt.title('Distribuição de Carbonos na Classe HC', loc='center', fontsize = 16)\n",
    "plt.ylim(0,4)"
   ]
  },
  {
   "cell_type": "markdown",
   "metadata": {},
   "source": [
    "Para fazer a distribuição de carbonos em um DBE especifico, é preciso filtrar somente uma classe após filtrar, filtra-se um DBE expecifico, e somado à mono Abundância dos DBE que foram filtrados na classe especificada, por fim e criada uma coluna  onde vai ser colocada a porcentagem das mono abundância de cada DBE"
   ]
  },
  {
   "cell_type": "code",
   "execution_count": null,
   "metadata": {},
   "outputs": [],
   "source": [
    "#Distribuição de carbono no DBE 15 da classe HC\n",
    "\n",
    "dbe9 = hc[hc['Neutral DBE'] == 15]\n",
    "dbeagrupado = hc.groupby('#C', as_index=False)['Mono Abund'].sum()\n",
    "total = hc['Mono Abund'].sum()\n",
    "\n",
    "plt.figure(figsize= (8,6))\n",
    "plt.bar(dbeagrupado['#C'], dbeagrupado['Mono Abund']/total*100)\n",
    "plt.xlabel('Número de Carbono', loc='center', fontsize= 12)\n",
    "plt.ylabel('Abundância Relativa (%)', loc='center', fontsize= 16)"
   ]
  },
  {
   "cell_type": "code",
   "execution_count": null,
   "metadata": {},
   "outputs": [],
   "source": [
    "#Distribuição de carbono no DBE 15 da classe HC gráfico de linha\n",
    "plt.figure(figsize= (8,6))\n",
    "plt.plot(dbeagrupado['#C'], dbeagrupado['Mono Abund']/total*100)\n",
    "plt.xlabel('Número de Carbono', loc='center', fontsize= 12)\n",
    "plt.ylabel('Abundância Relativa (%)', loc='center', fontsize= 16)\n",
    "plt.ylim (0.001)"
   ]
  }
 ],
 "metadata": {
  "kernelspec": {
   "display_name": "Python 3",
   "language": "python",
   "name": "python3"
  },
  "language_info": {
   "codemirror_mode": {
    "name": "ipython",
    "version": 3
   },
   "file_extension": ".py",
   "mimetype": "text/x-python",
   "name": "python",
   "nbconvert_exporter": "python",
   "pygments_lexer": "ipython3",
   "version": "3.12.4"
  }
 },
 "nbformat": 4,
 "nbformat_minor": 2
}
